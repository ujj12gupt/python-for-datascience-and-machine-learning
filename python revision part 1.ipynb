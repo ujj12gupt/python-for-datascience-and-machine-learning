{
 "cells": [
  {
   "cell_type": "code",
   "execution_count": 3,
   "id": "e3e8511c",
   "metadata": {},
   "outputs": [],
   "source": [
    "def times2(var):\n",
    "    return (var*2)"
   ]
  },
  {
   "cell_type": "code",
   "execution_count": 51,
   "id": "3d1f43ca",
   "metadata": {},
   "outputs": [
    {
     "data": {
      "text/plain": [
       "10"
      ]
     },
     "execution_count": 51,
     "metadata": {},
     "output_type": "execute_result"
    }
   ],
   "source": [
    "times2(5)"
   ]
  },
  {
   "cell_type": "code",
   "execution_count": null,
   "id": "277d9f2b",
   "metadata": {},
   "outputs": [],
   "source": [
    "# to generate heading\n",
    "#  name of heading\n",
    "# change codetype to markdown type\n",
    "# press shift+enter"
   ]
  },
  {
   "cell_type": "markdown",
   "id": "dae12a9c",
   "metadata": {},
   "source": [
    "# maps\n",
    "# maps are predefined functions in python which is used to apply functional operations in each and every element of an array"
   ]
  },
  {
   "cell_type": "code",
   "execution_count": 6,
   "id": "273937f9",
   "metadata": {},
   "outputs": [],
   "source": [
    "seq = [1,2,3,4,5]"
   ]
  },
  {
   "cell_type": "code",
   "execution_count": 7,
   "id": "137d854d",
   "metadata": {},
   "outputs": [
    {
     "data": {
      "text/plain": [
       "<map at 0x1820921ea30>"
      ]
     },
     "execution_count": 7,
     "metadata": {},
     "output_type": "execute_result"
    }
   ],
   "source": [
    "map(times2,seq)"
   ]
  },
  {
   "cell_type": "code",
   "execution_count": 9,
   "id": "fcac6947",
   "metadata": {},
   "outputs": [
    {
     "data": {
      "text/plain": [
       "[2, 4, 6, 8, 10]"
      ]
     },
     "execution_count": 9,
     "metadata": {},
     "output_type": "execute_result"
    }
   ],
   "source": [
    "list(map(times2,seq))"
   ]
  },
  {
   "cell_type": "markdown",
   "id": "54feb36f",
   "metadata": {},
   "source": [
    "# Lambda functions\n",
    "# (used to write a general function without def, name, return of a function)"
   ]
  },
  {
   "cell_type": "code",
   "execution_count": 10,
   "id": "4c49fb2d",
   "metadata": {},
   "outputs": [
    {
     "data": {
      "text/plain": [
       "<function __main__.<lambda>(var)>"
      ]
     },
     "execution_count": 10,
     "metadata": {},
     "output_type": "execute_result"
    }
   ],
   "source": [
    "# def times2(var):return (var*2)\n",
    "lambda var:var*2\n",
    "# function without name and return just using a parameter of function"
   ]
  },
  {
   "cell_type": "code",
   "execution_count": 11,
   "id": "5721e57c",
   "metadata": {},
   "outputs": [],
   "source": [
    "# assigning value of lambda to a variable\n",
    "t = lambda var:var*2\n",
    "# now t contains value of lambda we desired"
   ]
  },
  {
   "cell_type": "code",
   "execution_count": 13,
   "id": "637647bc",
   "metadata": {},
   "outputs": [
    {
     "data": {
      "text/plain": [
       "12"
      ]
     },
     "execution_count": 13,
     "metadata": {},
     "output_type": "execute_result"
    }
   ],
   "source": [
    "t(6)\n",
    "# passing parameters to designed t"
   ]
  },
  {
   "cell_type": "code",
   "execution_count": 50,
   "id": "dae2f700",
   "metadata": {},
   "outputs": [
    {
     "data": {
      "text/plain": [
       "[3, 6, 9, 12, 15]"
      ]
     },
     "execution_count": 50,
     "metadata": {},
     "output_type": "execute_result"
    }
   ],
   "source": [
    "list(map(lambda num:num*3,seq))\n",
    "# creating a lambda function on the spot at the point where we want to map the sequence\n",
    "# advantage: donot have to define the function formally"
   ]
  },
  {
   "cell_type": "markdown",
   "id": "51dc52cc",
   "metadata": {},
   "source": [
    "# filter"
   ]
  },
  {
   "cell_type": "code",
   "execution_count": 15,
   "id": "90123ffb",
   "metadata": {},
   "outputs": [
    {
     "data": {
      "text/plain": [
       "<filter at 0x1820922e430>"
      ]
     },
     "execution_count": 15,
     "metadata": {},
     "output_type": "execute_result"
    }
   ],
   "source": [
    "filter(lambda num:num*3,seq)"
   ]
  },
  {
   "cell_type": "code",
   "execution_count": 22,
   "id": "fb467167",
   "metadata": {},
   "outputs": [
    {
     "data": {
      "text/plain": [
       "[1, 2, 3, 4, 5]"
      ]
     },
     "execution_count": 22,
     "metadata": {},
     "output_type": "execute_result"
    }
   ],
   "source": [
    "list(filter(lambda num:num*3,seq))\n",
    "# role of filter function is not to modify each and every element of an array\n",
    "# it is used to filter the array based on certain conditions"
   ]
  },
  {
   "cell_type": "code",
   "execution_count": 27,
   "id": "77f8f325",
   "metadata": {},
   "outputs": [
    {
     "data": {
      "text/plain": [
       "[2, 4]"
      ]
     },
     "execution_count": 27,
     "metadata": {},
     "output_type": "execute_result"
    }
   ],
   "source": [
    "list(filter(lambda num:num%2==0,seq))"
   ]
  },
  {
   "cell_type": "markdown",
   "id": "6bca03f1",
   "metadata": {},
   "source": [
    "# String and some functions"
   ]
  },
  {
   "cell_type": "code",
   "execution_count": 23,
   "id": "0ba527f3",
   "metadata": {},
   "outputs": [],
   "source": [
    "s = \"my name is Ujjwal\""
   ]
  },
  {
   "cell_type": "code",
   "execution_count": 24,
   "id": "58318352",
   "metadata": {},
   "outputs": [
    {
     "data": {
      "text/plain": [
       "'my name is ujjwal'"
      ]
     },
     "execution_count": 24,
     "metadata": {},
     "output_type": "execute_result"
    }
   ],
   "source": [
    "s.lower()"
   ]
  },
  {
   "cell_type": "code",
   "execution_count": 25,
   "id": "a03d3760",
   "metadata": {},
   "outputs": [
    {
     "data": {
      "text/plain": [
       "'MY NAME IS UJJWAL'"
      ]
     },
     "execution_count": 25,
     "metadata": {},
     "output_type": "execute_result"
    }
   ],
   "source": [
    "s.upper()"
   ]
  },
  {
   "cell_type": "code",
   "execution_count": 28,
   "id": "784aac11",
   "metadata": {},
   "outputs": [
    {
     "data": {
      "text/plain": [
       "['my', 'name', 'is', 'Ujjwal']"
      ]
     },
     "execution_count": 28,
     "metadata": {},
     "output_type": "execute_result"
    }
   ],
   "source": [
    "s.split()\n",
    "# very important function.\n",
    "# it is used to convert the string into array of words."
   ]
  },
  {
   "cell_type": "code",
   "execution_count": 31,
   "id": "b1a59e2b",
   "metadata": {},
   "outputs": [
    {
     "data": {
      "text/plain": [
       "['Go', 'Sports!', '#Sports']"
      ]
     },
     "execution_count": 31,
     "metadata": {},
     "output_type": "execute_result"
    }
   ],
   "source": [
    "tweet = \"Go Sports! #Sports\"\n",
    "tweet.split()"
   ]
  },
  {
   "cell_type": "code",
   "execution_count": 36,
   "id": "50cb030a",
   "metadata": {},
   "outputs": [],
   "source": [
    "a = tweet.split(\"#\")\n",
    "# assigning split value to simple variable a\n",
    "# split in the string occurs wrt to '#' .\n",
    "# split of string occurs into word of array only at position where string contains \"#\"\n",
    "# by default this parameter is blank space"
   ]
  },
  {
   "cell_type": "code",
   "execution_count": 38,
   "id": "b8b42c6b",
   "metadata": {},
   "outputs": [
    {
     "data": {
      "text/plain": [
       "'Sports'"
      ]
     },
     "execution_count": 38,
     "metadata": {},
     "output_type": "execute_result"
    }
   ],
   "source": [
    "tweet.split(\"#\")[1]\n",
    "# indexing of array"
   ]
  },
  {
   "cell_type": "code",
   "execution_count": 34,
   "id": "d1c72c13",
   "metadata": {},
   "outputs": [
    {
     "name": "stdout",
     "output_type": "stream",
     "text": [
      "['Go Sports! ', 'Sports']\n"
     ]
    }
   ],
   "source": [
    "print(a)"
   ]
  },
  {
   "cell_type": "code",
   "execution_count": 35,
   "id": "c2bd58df",
   "metadata": {},
   "outputs": [
    {
     "data": {
      "text/plain": [
       "'Sports'"
      ]
     },
     "execution_count": 35,
     "metadata": {},
     "output_type": "execute_result"
    }
   ],
   "source": [
    "a[1]"
   ]
  },
  {
   "cell_type": "markdown",
   "id": "f36b4e8f",
   "metadata": {},
   "source": [
    "# dictionary and some functions"
   ]
  },
  {
   "cell_type": "code",
   "execution_count": 44,
   "id": "bfcbbcae",
   "metadata": {},
   "outputs": [],
   "source": [
    "d = {\"k1\":1,\"k2\":2}\n",
    "# initializing a dictionary"
   ]
  },
  {
   "cell_type": "code",
   "execution_count": 41,
   "id": "0c768d8a",
   "metadata": {},
   "outputs": [
    {
     "data": {
      "text/plain": [
       "{'k1': 1, 'k2': 2}"
      ]
     },
     "execution_count": 41,
     "metadata": {},
     "output_type": "execute_result"
    }
   ],
   "source": [
    "d"
   ]
  },
  {
   "cell_type": "code",
   "execution_count": 45,
   "id": "89e65a37",
   "metadata": {},
   "outputs": [
    {
     "data": {
      "text/plain": [
       "dict_keys(['k1', 'k2'])"
      ]
     },
     "execution_count": 45,
     "metadata": {},
     "output_type": "execute_result"
    }
   ],
   "source": [
    "d.keys()\n",
    "# returns list of keys in unordered form which is not indexible"
   ]
  },
  {
   "cell_type": "code",
   "execution_count": 46,
   "id": "28b900e7",
   "metadata": {},
   "outputs": [
    {
     "ename": "TypeError",
     "evalue": "'dict_keys' object is not subscriptable",
     "output_type": "error",
     "traceback": [
      "\u001b[1;31m---------------------------------------------------------------------------\u001b[0m",
      "\u001b[1;31mTypeError\u001b[0m                                 Traceback (most recent call last)",
      "Input \u001b[1;32mIn [46]\u001b[0m, in \u001b[0;36m<cell line: 1>\u001b[1;34m()\u001b[0m\n\u001b[1;32m----> 1\u001b[0m \u001b[43md\u001b[49m\u001b[38;5;241;43m.\u001b[39;49m\u001b[43mkeys\u001b[49m\u001b[43m(\u001b[49m\u001b[43m)\u001b[49m\u001b[43m[\u001b[49m\u001b[38;5;241;43m0\u001b[39;49m\u001b[43m]\u001b[49m\n",
      "\u001b[1;31mTypeError\u001b[0m: 'dict_keys' object is not subscriptable"
     ]
    }
   ],
   "source": [
    "d.keys()[0]"
   ]
  },
  {
   "cell_type": "code",
   "execution_count": 47,
   "id": "e62270c5",
   "metadata": {},
   "outputs": [
    {
     "data": {
      "text/plain": [
       "dict_items([('k1', 1), ('k2', 2)])"
      ]
     },
     "execution_count": 47,
     "metadata": {},
     "output_type": "execute_result"
    }
   ],
   "source": [
    "d.items()"
   ]
  },
  {
   "cell_type": "code",
   "execution_count": 49,
   "id": "138274a2",
   "metadata": {},
   "outputs": [
    {
     "data": {
      "text/plain": [
       "dict_values([1, 2])"
      ]
     },
     "execution_count": 49,
     "metadata": {},
     "output_type": "execute_result"
    }
   ],
   "source": [
    "d.values()"
   ]
  },
  {
   "cell_type": "markdown",
   "id": "8f7f6c7d",
   "metadata": {},
   "source": [
    "# list and some functions"
   ]
  },
  {
   "cell_type": "code",
   "execution_count": 52,
   "id": "d1719544",
   "metadata": {},
   "outputs": [],
   "source": [
    "lst = [1,2,3]"
   ]
  },
  {
   "cell_type": "code",
   "execution_count": 53,
   "id": "bcf0862f",
   "metadata": {},
   "outputs": [
    {
     "data": {
      "text/plain": [
       "3"
      ]
     },
     "execution_count": 53,
     "metadata": {},
     "output_type": "execute_result"
    }
   ],
   "source": [
    "lst.pop()"
   ]
  },
  {
   "cell_type": "code",
   "execution_count": 54,
   "id": "7bf5d44d",
   "metadata": {},
   "outputs": [
    {
     "data": {
      "text/plain": [
       "[1, 2]"
      ]
     },
     "execution_count": 54,
     "metadata": {},
     "output_type": "execute_result"
    }
   ],
   "source": [
    "lst"
   ]
  },
  {
   "cell_type": "code",
   "execution_count": 55,
   "id": "6f4f288c",
   "metadata": {},
   "outputs": [],
   "source": [
    "lst = [1,2,3,4,5]"
   ]
  },
  {
   "cell_type": "code",
   "execution_count": 56,
   "id": "90ae2575",
   "metadata": {},
   "outputs": [],
   "source": [
    "item = lst.pop()\n",
    "# assigning the deleted element from list to item"
   ]
  },
  {
   "cell_type": "code",
   "execution_count": 57,
   "id": "49bbcf8e",
   "metadata": {},
   "outputs": [
    {
     "data": {
      "text/plain": [
       "5"
      ]
     },
     "execution_count": 57,
     "metadata": {},
     "output_type": "execute_result"
    }
   ],
   "source": [
    "item"
   ]
  },
  {
   "cell_type": "code",
   "execution_count": 58,
   "id": "3e427da1",
   "metadata": {},
   "outputs": [
    {
     "data": {
      "text/plain": [
       "[1, 2, 3, 4]"
      ]
     },
     "execution_count": 58,
     "metadata": {},
     "output_type": "execute_result"
    }
   ],
   "source": [
    "lst"
   ]
  },
  {
   "cell_type": "code",
   "execution_count": 59,
   "id": "45920905",
   "metadata": {},
   "outputs": [],
   "source": [
    "first = lst.pop(0)"
   ]
  },
  {
   "cell_type": "code",
   "execution_count": 60,
   "id": "02599b13",
   "metadata": {},
   "outputs": [
    {
     "data": {
      "text/plain": [
       "1"
      ]
     },
     "execution_count": 60,
     "metadata": {},
     "output_type": "execute_result"
    }
   ],
   "source": [
    "first"
   ]
  },
  {
   "cell_type": "code",
   "execution_count": 61,
   "id": "ff8765d8",
   "metadata": {},
   "outputs": [
    {
     "data": {
      "text/plain": [
       "[2, 3, 4]"
      ]
     },
     "execution_count": 61,
     "metadata": {},
     "output_type": "execute_result"
    }
   ],
   "source": [
    "lst"
   ]
  },
  {
   "cell_type": "code",
   "execution_count": 62,
   "id": "93a786fc",
   "metadata": {},
   "outputs": [],
   "source": [
    "lst.append('new')"
   ]
  },
  {
   "cell_type": "code",
   "execution_count": 63,
   "id": "f3cf76ae",
   "metadata": {},
   "outputs": [
    {
     "data": {
      "text/plain": [
       "[2, 3, 4, 'new']"
      ]
     },
     "execution_count": 63,
     "metadata": {},
     "output_type": "execute_result"
    }
   ],
   "source": [
    "lst"
   ]
  },
  {
   "cell_type": "code",
   "execution_count": 64,
   "id": "84c82585",
   "metadata": {},
   "outputs": [
    {
     "data": {
      "text/plain": [
       "False"
      ]
     },
     "execution_count": 64,
     "metadata": {},
     "output_type": "execute_result"
    }
   ],
   "source": [
    "'x' in lst"
   ]
  },
  {
   "cell_type": "code",
   "execution_count": 65,
   "id": "9ac743d3",
   "metadata": {},
   "outputs": [
    {
     "data": {
      "text/plain": [
       "True"
      ]
     },
     "execution_count": 65,
     "metadata": {},
     "output_type": "execute_result"
    }
   ],
   "source": [
    "'x' in ['x','y','z']"
   ]
  },
  {
   "cell_type": "code",
   "execution_count": 66,
   "id": "18368ff8",
   "metadata": {},
   "outputs": [],
   "source": [
    "x = [(1,2),(3,4),(5,6)]\n",
    "# list of tuples"
   ]
  },
  {
   "cell_type": "code",
   "execution_count": 67,
   "id": "cda5894f",
   "metadata": {},
   "outputs": [
    {
     "data": {
      "text/plain": [
       "(1, 2)"
      ]
     },
     "execution_count": 67,
     "metadata": {},
     "output_type": "execute_result"
    }
   ],
   "source": [
    "x[0]"
   ]
  },
  {
   "cell_type": "code",
   "execution_count": 68,
   "id": "562ad4fa",
   "metadata": {},
   "outputs": [
    {
     "data": {
      "text/plain": [
       "2"
      ]
     },
     "execution_count": 68,
     "metadata": {},
     "output_type": "execute_result"
    }
   ],
   "source": [
    "x[0][1]"
   ]
  },
  {
   "cell_type": "code",
   "execution_count": 69,
   "id": "53520c3a",
   "metadata": {},
   "outputs": [
    {
     "name": "stdout",
     "output_type": "stream",
     "text": [
      "(1, 2)\n",
      "(3, 4)\n",
      "(5, 6)\n"
     ]
    }
   ],
   "source": [
    "for item in x:\n",
    "    print(item)"
   ]
  },
  {
   "cell_type": "code",
   "execution_count": 72,
   "id": "305250d6",
   "metadata": {},
   "outputs": [
    {
     "name": "stdout",
     "output_type": "stream",
     "text": [
      "a is  1   b is  2\n",
      "a is  3   b is  4\n",
      "a is  5   b is  6\n"
     ]
    }
   ],
   "source": [
    "for (a,b) in x:\n",
    "    print(\"a is \",a,\" \",\"b is \",b)\n",
    "# paranthesis () is just a formality here"
   ]
  },
  {
   "cell_type": "code",
   "execution_count": 73,
   "id": "9d08aab4",
   "metadata": {},
   "outputs": [
    {
     "name": "stdout",
     "output_type": "stream",
     "text": [
      "a is  1   b is  2\n",
      "a is  3   b is  4\n",
      "a is  5   b is  6\n"
     ]
    }
   ],
   "source": [
    "for a,b in x:\n",
    "    print(\"a is \",a,\" \",\"b is \",b)"
   ]
  },
  {
   "cell_type": "code",
   "execution_count": null,
   "id": "5038f881",
   "metadata": {},
   "outputs": [],
   "source": []
  }
 ],
 "metadata": {
  "kernelspec": {
   "display_name": "Python 3 (ipykernel)",
   "language": "python",
   "name": "python3"
  },
  "language_info": {
   "codemirror_mode": {
    "name": "ipython",
    "version": 3
   },
   "file_extension": ".py",
   "mimetype": "text/x-python",
   "name": "python",
   "nbconvert_exporter": "python",
   "pygments_lexer": "ipython3",
   "version": "3.9.12"
  }
 },
 "nbformat": 4,
 "nbformat_minor": 5
}
